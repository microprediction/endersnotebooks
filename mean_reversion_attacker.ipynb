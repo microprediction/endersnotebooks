{
  "nbformat": 4,
  "nbformat_minor": 0,
  "metadata": {
    "colab": {
      "provenance": [],
      "authorship_tag": "ABX9TyNg0AdEMZ6K+wzuPE/paPjE",
      "include_colab_link": true
    },
    "kernelspec": {
      "name": "python3",
      "display_name": "Python 3"
    },
    "language_info": {
      "name": "python"
    }
  },
  "cells": [
    {
      "cell_type": "markdown",
      "metadata": {
        "id": "view-in-github",
        "colab_type": "text"
      },
      "source": [
        "<a href=\"https://colab.research.google.com/github/microprediction/endersnotebooks/blob/main/mean_reversion_attacker.ipynb\" target=\"_parent\"><img src=\"https://colab.research.google.com/assets/colab-badge.svg\" alt=\"Open In Colab\"/></a>"
      ]
    },
    {
      "cell_type": "code",
      "execution_count": 30,
      "metadata": {
        "colab": {
          "base_uri": "https://localhost:8080/",
          "height": 531
        },
        "collapsed": true,
        "id": "ljQZy0kzn5rb",
        "outputId": "2428cf0e-c073-42d0-fd70-3eea9a9a1cc4"
      },
      "outputs": [
        {
          "output_type": "stream",
          "name": "stdout",
          "text": [
            "Collecting git+https://github.com/microprediction/endersgame.git\n",
            "  Cloning https://github.com/microprediction/endersgame.git to /tmp/pip-req-build-2f23y0xn\n",
            "  Running command git clone --filter=blob:none --quiet https://github.com/microprediction/endersgame.git /tmp/pip-req-build-2f23y0xn\n",
            "  Resolved https://github.com/microprediction/endersgame.git to commit 7ff6e319c1125e494a3e3b1f7b1f173f7317f408\n",
            "  Preparing metadata (setup.py) ... \u001b[?25l\u001b[?25hdone\n",
            "Requirement already satisfied: numpy in /usr/local/lib/python3.10/dist-packages (from endersgame==0.2.12) (1.26.4)\n",
            "Requirement already satisfied: river in /usr/local/lib/python3.10/dist-packages (from endersgame==0.2.12) (0.21.2)\n",
            "Requirement already satisfied: pandas<3.0,>=2.1 in /usr/local/lib/python3.10/dist-packages (from river->endersgame==0.2.12) (2.1.4)\n",
            "Requirement already satisfied: scipy<2.0.0,>=1.12.1 in /usr/local/lib/python3.10/dist-packages (from river->endersgame==0.2.12) (1.13.1)\n",
            "Requirement already satisfied: python-dateutil>=2.8.2 in /usr/local/lib/python3.10/dist-packages (from pandas<3.0,>=2.1->river->endersgame==0.2.12) (2.8.2)\n",
            "Requirement already satisfied: pytz>=2020.1 in /usr/local/lib/python3.10/dist-packages (from pandas<3.0,>=2.1->river->endersgame==0.2.12) (2024.2)\n",
            "Requirement already satisfied: tzdata>=2022.1 in /usr/local/lib/python3.10/dist-packages (from pandas<3.0,>=2.1->river->endersgame==0.2.12) (2024.1)\n",
            "Requirement already satisfied: six>=1.5 in /usr/local/lib/python3.10/dist-packages (from python-dateutil>=2.8.2->pandas<3.0,>=2.1->river->endersgame==0.2.12) (1.16.0)\n",
            "Building wheels for collected packages: endersgame\n",
            "  Building wheel for endersgame (setup.py) ... \u001b[?25l\u001b[?25hdone\n",
            "  Created wheel for endersgame: filename=endersgame-0.2.12-py3-none-any.whl size=26986 sha256=5747b8b058efbc59c10874ad86d47be4bfa35ee9a5143500f83007a096e10b53\n",
            "  Stored in directory: /tmp/pip-ephem-wheel-cache-or1hbmfz/wheels/39/24/f0/19aeef5765f9b9f629bab092893ebd3c04bde902d978c742bb\n",
            "Successfully built endersgame\n",
            "Installing collected packages: endersgame\n",
            "  Attempting uninstall: endersgame\n",
            "    Found existing installation: endersgame 0.2.10\n",
            "    Uninstalling endersgame-0.2.10:\n",
            "      Successfully uninstalled endersgame-0.2.10\n",
            "Successfully installed endersgame-0.2.12\n"
          ]
        },
        {
          "output_type": "display_data",
          "data": {
            "application/vnd.colab-display-data+json": {
              "pip_warning": {
                "packages": [
                  "endersgame"
                ]
              },
              "id": "5e934e18bbb0459997bb9a6405ff0ec5"
            }
          },
          "metadata": {}
        }
      ],
      "source": [
        "!pip install --upgrade git+https://github.com/microprediction/endersgame.git"
      ]
    },
    {
      "cell_type": "markdown",
      "source": [
        "# Mean Reversion Attacker Tutorial\n",
        "This notebook demonstrates how to create an \"attacker\" (see [README.md](https://github.com/microprediction/endersgame/tree/main/endersgame/attackers)), and test it.\n",
        "\n",
        "We use the steam generator (see this [notebook](https://github.com/microprediction/endersnotebooks/blob/main/enders_data_generator.ipynb)) to train it.  \n",
        "\n",
        "## What should an attacker do?\n",
        "\n",
        "It tries to predict `up` or `down` but not too often.\n",
        "\n",
        "Our attacker will consume a univariate sequence of numerical data points $x_1, x_2, \\dots x_t$ and try to exploit deviations from the [martingale property](https://en.wikipedia.org/wiki/Martingale_(probability_theory)), which is to say that we expect the series $x_t$ to satisfy:\n",
        "\n",
        "$$ E[x_{t+k}] \\approx x_t $$\n",
        "\n",
        "roughly. Of course, there's no such thing in this world as a perfect martingale and it is your job to indicate when\n",
        "\n",
        "$$ E[x_{t+k}] > x_t $$\n",
        "\n",
        "or conversely."
      ],
      "metadata": {
        "id": "LpCh-JZToCzK"
      }
    },
    {
      "cell_type": "markdown",
      "source": [
        "## Overview\n",
        "We will\n",
        "\n",
        "\n",
        "1.   Start with an attacker that already has some accounting logic\n",
        "2.   Modify the default `tick` and `predict` methods\n",
        "3.   Run the attacker on mock data\n",
        "4.   Run the attacker on real data\n",
        "5.   Set up an optimization to tune the attacker's parameters\n",
        "6.   See if it helps on the test set\n",
        "\n",
        "\n",
        "## Imports\n"
      ],
      "metadata": {
        "id": "8ITebDapqJod"
      }
    },
    {
      "cell_type": "code",
      "source": [
        "from endersgame.attackers.attackerwithsimplepnl import AttackerWithSimplePnL\n",
        "from endersgame.rivertransformers.macd import MACD\n",
        "from endersgame.datasources.streamgenerator import stream_generator\n",
        "from river import stats\n",
        "import numpy as np\n",
        "import math\n",
        "import types\n",
        "from pprint import pprint\n",
        "import json"
      ],
      "metadata": {
        "id": "7qxqYHfMqvQ4"
      },
      "execution_count": 1,
      "outputs": []
    },
    {
      "cell_type": "markdown",
      "source": [
        "## Step 1: Decide what state to maintain\n",
        "Let's first implement the `tick` method. This should quickly respond to an incoming data point by modifying a rapidly changing `state`. Here we choose to maintain the current value and also an exponentially weighted moving average of historical values."
      ],
      "metadata": {
        "id": "F7zKoqUAqx7X"
      }
    },
    {
      "cell_type": "code",
      "source": [
        "from endersgame.attackers.attackerwithsimplepnl import AttackerWithSimplePnL\n",
        "\n",
        "class MyAttacker(AttackerWithSimplePnL):\n",
        "\n",
        "     def __init__(self, a=0.01):\n",
        "        super().__init__()\n",
        "        self.state = {'running_avg':None,\n",
        "                      'current_value':None}\n",
        "        self.params = {'a':a}\n",
        "\n",
        "     def tick(self, x:float):\n",
        "         # Maintains an expon moving average of the data\n",
        "         self.state['current_value'] = x\n",
        "         if not np.isnan(x):\n",
        "            if self.state['running_avg'] is None:\n",
        "                self.state['running_avg'] = x\n",
        "            else:\n",
        "                self.state['running_avg'] = (1-self.params['a'])*self.state['running_avg'] + self.params['a']*x\n"
      ],
      "metadata": {
        "id": "QpvP8BbRpixH"
      },
      "execution_count": 9,
      "outputs": []
    },
    {
      "cell_type": "markdown",
      "source": [
        "### Testing tick\n",
        "We are half way there. Let's check the state maintenance:"
      ],
      "metadata": {
        "id": "4INVybLMsraQ"
      }
    },
    {
      "cell_type": "code",
      "source": [
        "x_train_stream = stream_generator(stream_id=0,category='train')\n",
        "attacker = MyAttacker()\n",
        "for x in x_train_stream:\n",
        "    attacker.tick(x)\n",
        "\n",
        "print(f\"After processing the entire stream, the current value is  {attacker.state['current_value']} and the moving average is {attacker.state['running_avg']}\")\n",
        "attacker.state"
      ],
      "metadata": {
        "colab": {
          "base_uri": "https://localhost:8080/"
        },
        "id": "GWZ-Z_jsstdw",
        "outputId": "fba32517-1ab8-4d86-eb06-f1fa10a68fc7"
      },
      "execution_count": 10,
      "outputs": [
        {
          "output_type": "stream",
          "name": "stdout",
          "text": [
            "After processing the entire stream, the current value is  9537.392857140881 and the moving average is 9540.56231901366\n"
          ]
        },
        {
          "output_type": "execute_result",
          "data": {
            "text/plain": [
              "{'running_avg': 9540.56231901366, 'current_value': 9537.392857140881}"
            ]
          },
          "metadata": {},
          "execution_count": 10
        }
      ]
    },
    {
      "cell_type": "markdown",
      "source": [
        "## Making an `up` or `down` decision\n",
        "Next we implement `predict` using a mean reversion strategy."
      ],
      "metadata": {
        "id": "Q0Bjtgbet2Hn"
      }
    },
    {
      "cell_type": "code",
      "source": [
        "def predict(self, horizon:int=None)->float:\n",
        "    if self.state['current_value'] > self.state['running_avg'] + 2:\n",
        "        return -1\n",
        "    if self.state['current_value'] < self.state['running_avg'] - 2:\n",
        "        return 1\n",
        "    return 0\n",
        "\n",
        "attacker = MyAttacker()\n",
        "attacker.predict = types.MethodType(predict, attacker) # <-- Attach the predict method to our existing instance of attacker\n"
      ],
      "metadata": {
        "id": "_Xaf1t-6uBL8"
      },
      "execution_count": 16,
      "outputs": []
    },
    {
      "cell_type": "markdown",
      "source": [
        "Let's check that if the current value is very high we should predict it will fall:"
      ],
      "metadata": {
        "id": "hGyCR4yexY5O"
      }
    },
    {
      "cell_type": "code",
      "source": [
        "attacker.state['current_value'] = 10\n",
        "attacker.state['running_avg'] = 5\n",
        "print(attacker.predict())"
      ],
      "metadata": {
        "colab": {
          "base_uri": "https://localhost:8080/"
        },
        "id": "buRgiUMo2lXH",
        "outputId": "aacc83ef-8b69-499f-d2e1-91ed88ae34f2"
      },
      "execution_count": 14,
      "outputs": [
        {
          "output_type": "stream",
          "name": "stdout",
          "text": [
            "Calling my predict\n",
            "-1\n"
          ]
        }
      ]
    },
    {
      "cell_type": "markdown",
      "source": [
        "## Run the attacker on mock data\n",
        "Let's put these together to creat an attacker with both `tick` and `predict`"
      ],
      "metadata": {
        "id": "lh6jpef0vAjp"
      }
    },
    {
      "cell_type": "code",
      "source": [
        "horizon=100                           # Prediction horizon\n",
        "attacker = MyAttacker()         # Always reset an attacker\n",
        "attacker.predict = types.MethodType(predict, attacker)  # <-- If you find this awkward, you can always just put predict() in the class itself.\n",
        "\n",
        "xs = [1,3,4,2,4,5,1,5,2,5,10]*100\n",
        "for x in xs:\n",
        "   y = attacker.tick_and_predict(x=x, horizon=horizon)"
      ],
      "metadata": {
        "id": "S0yzoHAOv9W4"
      },
      "execution_count": 17,
      "outputs": []
    },
    {
      "cell_type": "markdown",
      "source": [
        "## Run the attacker on real data"
      ],
      "metadata": {
        "id": "dTsfKoLo3lIT"
      }
    },
    {
      "cell_type": "code",
      "source": [
        "horizon = 100       # Horizon\n",
        "x_test_stream = stream_generator(stream_id=1,category='train')\n",
        "attacker = MyAttacker()\n",
        "attacker.predict = types.MethodType(predict, attacker)     #  <-- If you get sick of doing this then put the method in the class at the outset\n",
        "for x in x_test_stream:\n",
        "    y = attacker.tick_and_predict(x=x,horizon=horizon)\n",
        "\n",
        "attacker.state"
      ],
      "metadata": {
        "colab": {
          "base_uri": "https://localhost:8080/"
        },
        "id": "fqfStlKN3m5s",
        "outputId": "3bb9ab4e-1079-4a0d-87d6-8d48f6cb8873"
      },
      "execution_count": 19,
      "outputs": [
        {
          "output_type": "execute_result",
          "data": {
            "text/plain": [
              "{'running_avg': 6441.850010946288, 'current_value': 6439.799999998536}"
            ]
          },
          "metadata": {},
          "execution_count": 19
        }
      ]
    },
    {
      "cell_type": "markdown",
      "source": [
        "## Check the attacker's profit and loss\n"
      ],
      "metadata": {
        "id": "kFnfH7VNxmpF"
      }
    },
    {
      "cell_type": "code",
      "source": [
        "pprint(attacker.pnl.summary())"
      ],
      "metadata": {
        "colab": {
          "base_uri": "https://localhost:8080/"
        },
        "id": "EimzKx0lxo7y",
        "outputId": "31bd11d2-0579-40cb-b9aa-aed16379726c"
      },
      "execution_count": 21,
      "outputs": [
        {
          "output_type": "stream",
          "name": "stdout",
          "text": [
            "{'current_ndx': 181700,\n",
            " 'losses': 76,\n",
            " 'num_resolved_decisions': 181,\n",
            " 'profit_per_decision': 0.05552486187847094,\n",
            " 'standardized_profit_per_decision': 0.03370947839520563,\n",
            " 'total_profit': 10.050000000003239,\n",
            " 'win_loss_ratio': 1.381578947368421,\n",
            " 'wins': 105}\n"
          ]
        }
      ]
    },
    {
      "cell_type": "markdown",
      "source": [
        "## Train (globally) the using many streams\n",
        "Let's create a function that evaluates the attacker for a choice of parameter `a`"
      ],
      "metadata": {
        "id": "MKagUGkW6vbv"
      }
    },
    {
      "cell_type": "code",
      "source": [
        "def total_profit_objective(a, category='train', verbose=True):\n",
        "    NUM_STREAMS = 20\n",
        "    horizon = 100.                # Prediction horizon\n",
        "    total_profit = 0\n",
        "    for stream_id in range(NUM_STREAMS):\n",
        "        attacker = MyAttacker(a=a)\n",
        "        attacker.predict = types.MethodType(predict, attacker)\n",
        "        x_test_stream = stream_generator(stream_id=stream_id,category=category)\n",
        "        for x in x_test_stream:\n",
        "            y = attacker.tick_and_predict(x=x,horizon=horizon)\n",
        "        pnl = attacker.pnl.summary()\n",
        "        total_profit += pnl['total_profit']\n",
        "    if verbose:\n",
        "        print(f'Using a={a} the total profit on the {category} data is {total_profit}')\n",
        "    return -total_profit         # So smaller is better for the optimizer\n",
        "\n",
        "# Let's try it out\n",
        "profit = -total_profit_objective(a=0.06)"
      ],
      "metadata": {
        "colab": {
          "base_uri": "https://localhost:8080/"
        },
        "id": "UnVLstwy65L4",
        "outputId": "7301599c-1a2a-4c8c-a7a9-d5a4866309e0"
      },
      "execution_count": 23,
      "outputs": [
        {
          "output_type": "stream",
          "name": "stdout",
          "text": [
            "Using a=0.06 the total profit on the train data is 2.8920028024899036\n"
          ]
        }
      ]
    },
    {
      "cell_type": "markdown",
      "source": [
        "Now we can pass this to an optimizer"
      ],
      "metadata": {
        "id": "5gu4daet75Fg"
      }
    },
    {
      "cell_type": "code",
      "source": [
        "import scipy.optimize as opt\n",
        "result = opt.minimize_scalar(total_profit_objective, bounds=(0.001, 0.2), method='bounded',options={'maxiter': 10})\n",
        "\n",
        "# Print the result\n",
        "print(f\"Optimal value of a: {result.x}\")\n",
        "print(f\"Minimum total profit: {-result.fun}\")  # Re-negate to get the actual profit"
      ],
      "metadata": {
        "colab": {
          "base_uri": "https://localhost:8080/"
        },
        "id": "cPMdvBBD76xG",
        "outputId": "8cb36a0d-82d1-4ff3-80b9-56b6436ae5dc"
      },
      "execution_count": null,
      "outputs": [
        {
          "output_type": "stream",
          "name": "stdout",
          "text": [
            "Using a=0.07701123623877092 the total profit is 74.27096864444063\n",
            "Using a=0.12398876376122907 the total profit is 77.1383459729119\n",
            "Using a=0.15302247247754186 the total profit is 65.50128714938424\n",
            "Using a=0.10552275836219666 the total profit is 76.39992117282337\n",
            "Using a=0.1350786536713965 the total profit is 71.84952244350112\n",
            "Using a=0.11693537733523775 the total profit is 76.73845058458915\n",
            "Using a=0.1282247247754185 the total profit is 78.06011067879662\n",
            "Using a=0.13084269265720705 the total profit is 75.09452244350292\n",
            "Using a=0.1266067316430176 the total profit is 77.78540479644346\n",
            "Using a=0.12922469952480614 the total profit is 78.06011067879662\n",
            "Optimal value of a: 0.12922469952480614\n",
            "Minimum total profit: 78.06011067879662\n"
          ]
        }
      ]
    },
    {
      "cell_type": "markdown",
      "source": [
        "## Oh wait ... does it work on the test set too?"
      ],
      "metadata": {
        "id": "OCwBbf2XANK9"
      }
    },
    {
      "cell_type": "code",
      "source": [
        "test_profit = -total_profit_objective(a=0.13, category='test')\n",
        "if test_profit<0:\n",
        "   print('Back to the drawing board!')"
      ],
      "metadata": {
        "colab": {
          "base_uri": "https://localhost:8080/"
        },
        "id": "rKt_3PL_Abi6",
        "outputId": "c0bab77b-b717-4410-9e09-cf3b6312fba8"
      },
      "execution_count": 24,
      "outputs": [
        {
          "output_type": "stream",
          "name": "stdout",
          "text": [
            "Using a=0.13 the total profit on the test data is -322.5127762336383\n",
            "Back to the drawing board!\n"
          ]
        }
      ]
    }
  ]
}