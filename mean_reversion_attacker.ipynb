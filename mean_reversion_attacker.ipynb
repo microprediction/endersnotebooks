{
  "nbformat": 4,
  "nbformat_minor": 0,
  "metadata": {
    "colab": {
      "provenance": [],
      "authorship_tag": "ABX9TyNguXyhhaAWyv1jHX9Yz5iJ",
      "include_colab_link": true
    },
    "kernelspec": {
      "name": "python3",
      "display_name": "Python 3"
    },
    "language_info": {
      "name": "python"
    }
  },
  "cells": [
    {
      "cell_type": "markdown",
      "metadata": {
        "id": "view-in-github",
        "colab_type": "text"
      },
      "source": [
        "<a href=\"https://colab.research.google.com/github/microprediction/endersnotebooks/blob/main/mean_reversion_attacker.ipynb\" target=\"_parent\"><img src=\"https://colab.research.google.com/assets/colab-badge.svg\" alt=\"Open In Colab\"/></a>"
      ]
    },
    {
      "cell_type": "code",
      "execution_count": 1,
      "metadata": {
        "colab": {
          "base_uri": "https://localhost:8080/"
        },
        "collapsed": true,
        "id": "ljQZy0kzn5rb",
        "outputId": "bb1e0c0c-af2d-4982-85e6-cecb2ed00e3f"
      },
      "outputs": [
        {
          "output_type": "stream",
          "name": "stdout",
          "text": [
            "Collecting git+https://github.com/microprediction/endersgame.git\n",
            "  Cloning https://github.com/microprediction/endersgame.git to /tmp/pip-req-build-aibp23p1\n",
            "  Running command git clone --filter=blob:none --quiet https://github.com/microprediction/endersgame.git /tmp/pip-req-build-aibp23p1\n",
            "  Resolved https://github.com/microprediction/endersgame.git to commit f7cd9a25b7de1af86c92cc6a1beaab736f92db1a\n",
            "  Preparing metadata (setup.py) ... \u001b[?25l\u001b[?25hdone\n",
            "Requirement already satisfied: numpy in /usr/local/lib/python3.10/dist-packages (from endersgame==0.0.9) (1.26.4)\n",
            "Collecting river (from endersgame==0.0.9)\n",
            "  Downloading river-0.21.2-cp310-cp310-manylinux_2_17_x86_64.manylinux2014_x86_64.whl.metadata (9.0 kB)\n",
            "Requirement already satisfied: pandas<3.0,>=2.1 in /usr/local/lib/python3.10/dist-packages (from river->endersgame==0.0.9) (2.1.4)\n",
            "Requirement already satisfied: scipy<2.0.0,>=1.12.1 in /usr/local/lib/python3.10/dist-packages (from river->endersgame==0.0.9) (1.13.1)\n",
            "Requirement already satisfied: python-dateutil>=2.8.2 in /usr/local/lib/python3.10/dist-packages (from pandas<3.0,>=2.1->river->endersgame==0.0.9) (2.8.2)\n",
            "Requirement already satisfied: pytz>=2020.1 in /usr/local/lib/python3.10/dist-packages (from pandas<3.0,>=2.1->river->endersgame==0.0.9) (2024.2)\n",
            "Requirement already satisfied: tzdata>=2022.1 in /usr/local/lib/python3.10/dist-packages (from pandas<3.0,>=2.1->river->endersgame==0.0.9) (2024.1)\n",
            "Requirement already satisfied: six>=1.5 in /usr/local/lib/python3.10/dist-packages (from python-dateutil>=2.8.2->pandas<3.0,>=2.1->river->endersgame==0.0.9) (1.16.0)\n",
            "Downloading river-0.21.2-cp310-cp310-manylinux_2_17_x86_64.manylinux2014_x86_64.whl (3.1 MB)\n",
            "\u001b[2K   \u001b[90m━━━━━━━━━━━━━━━━━━━━━━━━━━━━━━━━━━━━━━━━\u001b[0m \u001b[32m3.1/3.1 MB\u001b[0m \u001b[31m11.6 MB/s\u001b[0m eta \u001b[36m0:00:00\u001b[0m\n",
            "\u001b[?25hBuilding wheels for collected packages: endersgame\n",
            "  Building wheel for endersgame (setup.py) ... \u001b[?25l\u001b[?25hdone\n",
            "  Created wheel for endersgame: filename=endersgame-0.0.9-py3-none-any.whl size=19821 sha256=87058d95a267cfab894c05afa2fab1ce1cfef657c28dbe0574512dcbf021714a\n",
            "  Stored in directory: /tmp/pip-ephem-wheel-cache-wzn1vvqs/wheels/39/24/f0/19aeef5765f9b9f629bab092893ebd3c04bde902d978c742bb\n",
            "Successfully built endersgame\n",
            "Installing collected packages: river, endersgame\n",
            "Successfully installed endersgame-0.0.9 river-0.21.2\n"
          ]
        }
      ],
      "source": [
        "!pip install --upgrade git+https://github.com/microprediction/endersgame.git"
      ]
    },
    {
      "cell_type": "markdown",
      "source": [
        "# Creating and testing an attacker\n",
        "You will participate in \"Enders Game\" ... a sport that is more serious than you can possibly imagine.\n",
        "\n",
        "- This notebook demonstrates how to create an \"attacker\" (see [README.md](https://github.com/microprediction/endersgame/tree/main/endersgame/attackers)), and test it.\n",
        "\n",
        "- We will use data endersgame steam generator (see this [notebook](https://github.com/microprediction/endersnotebooks/blob/main/enders_data_generator.ipynb)).\n",
        "\n",
        "## What should an attacker do?\n",
        "\n",
        "In short, it tries to predict `up` or `down` but not too often.\n",
        "\n",
        "Our attacker will consume a univariate sequence of numerical data points $x_1, x_2, \\dots x_t$ and look for occasional deviations from the [martingale property](https://en.wikipedia.org/wiki/Martingale_(probability_theory), which is to say that we expect the series $x_t$ to satisfy:\n",
        "\n",
        "$$ E[x_{t+k}] \\approx x_t $$\n",
        "\n",
        "The attacker signals whether the future value will, on average, be above or below the current value."
      ],
      "metadata": {
        "id": "LpCh-JZToCzK"
      }
    },
    {
      "cell_type": "markdown",
      "source": [
        "## Overview\n",
        "We will\n",
        "\n",
        "\n",
        "1.   Start with an attacker that already has some accounting logic\n",
        "2.   Modify the default `tick` and `predict` methods\n",
        "3.   Run the attacker on mock data\n",
        "4.   Run the attacker on real data\n",
        "\n",
        "Afterwards we will\n",
        "\n",
        "4.   Set up an optimization to tune the attacker's parameters\n",
        "5.   See if it helps on the test set\n",
        "\n",
        "\n",
        "## Imports\n"
      ],
      "metadata": {
        "id": "8ITebDapqJod"
      }
    },
    {
      "cell_type": "code",
      "source": [
        "from endersgame.attackers.attackerwithsimplepnl import AttackerWithSimplePnL\n",
        "from endersgame.rivertransformers.macd import MACD\n",
        "from endersgame.datasources.streamgenerator import stream_generator\n",
        "from river import stats\n",
        "import numpy as np\n",
        "import math\n",
        "import types\n",
        "from pprint import pprint"
      ],
      "metadata": {
        "id": "7qxqYHfMqvQ4"
      },
      "execution_count": 98,
      "outputs": []
    },
    {
      "cell_type": "markdown",
      "source": [
        "## Step 1: Decide what state to maintain\n",
        "Let's first implement the `tick` method. This should quickly respond to an incoming data point. Here we choose to maintain the current value and also an exponentially weighted moving average of historical values."
      ],
      "metadata": {
        "id": "F7zKoqUAqx7X"
      }
    },
    {
      "cell_type": "code",
      "source": [
        "from endersgame.attackers.attackerwithsimplepnl import AttackerWithSimplePnL\n",
        "\n",
        "class MyAttacker(AttackerWithSimplePnL):\n",
        "\n",
        "     def __init__(self, a=0.01):\n",
        "        super().__init__()\n",
        "        self.state = {'running_avg':None,\n",
        "                      'current_value':None}\n",
        "        self.params = {'a':a}\n",
        "\n",
        "     def tick(self, x:float):\n",
        "         # Maintains an expon moving average of the data\n",
        "         self.state['current_value'] = x\n",
        "         if not np.isnan(x):\n",
        "            if self.state['running_avg'] is None:\n",
        "                self.state['running_avg'] = x\n",
        "            else:\n",
        "                self.state['running_avg'] = (1-self.params['a'])*self.state['running_avg'] + self.params['a']*x\n",
        ""
      ],
      "metadata": {
        "id": "QpvP8BbRpixH"
      },
      "execution_count": 99,
      "outputs": []
    },
    {
      "cell_type": "markdown",
      "source": [
        "### Testing tick\n",
        "Instantiate the attacker and let it tick on data from history."
      ],
      "metadata": {
        "id": "4INVybLMsraQ"
      }
    },
    {
      "cell_type": "code",
      "source": [
        "x_train_stream = stream_generator(stream_id=0,category='train')\n",
        "attacker = MyAttacker()\n",
        "for x in x_train_stream:\n",
        "    attacker.tick(x)\n",
        "\n",
        "last_x = x\n",
        "print(f\"After processing the entire stream, the current value is  {attacker.state['current_value']} and the moving average is {attacker.state['running_avg']}\")"
      ],
      "metadata": {
        "colab": {
          "base_uri": "https://localhost:8080/"
        },
        "id": "GWZ-Z_jsstdw",
        "outputId": "bc19d4e8-d940-4824-8bbd-ce29816aa772"
      },
      "execution_count": 100,
      "outputs": [
        {
          "output_type": "stream",
          "name": "stdout",
          "text": [
            "No more files found for stream_id=0 in category='train'.\n",
            "After processing the entire stream, the current value is  9583.964285712302 and the moving average is 9583.164896526241\n"
          ]
        }
      ]
    },
    {
      "cell_type": "markdown",
      "source": [
        "## Making an `up` or `down` decision\n",
        "Next we implement `predict` using a mean reversion strategy."
      ],
      "metadata": {
        "id": "Q0Bjtgbet2Hn"
      }
    },
    {
      "cell_type": "code",
      "source": [
        "def predict(self, k:int=None)->float:\n",
        "    if self.state['current_value'] > self.state['running_avg'] + 1:\n",
        "        return -1\n",
        "    if self.state['current_value'] < self.state['running_avg'] - 1:\n",
        "        return 1\n",
        "    return 0\n",
        "\n",
        "attacker = MyAttacker()\n",
        "attacker.predict = types.MethodType(predict, attacker) # <-- Attach the predict method to our existing instance of attacker\n"
      ],
      "metadata": {
        "id": "_Xaf1t-6uBL8"
      },
      "execution_count": 101,
      "outputs": []
    },
    {
      "cell_type": "markdown",
      "source": [
        "Let's check that if the current value is very high we should predict it will fall:"
      ],
      "metadata": {
        "id": "hGyCR4yexY5O"
      }
    },
    {
      "cell_type": "code",
      "source": [
        "attacker.state['current_value'] = 10\n",
        "attacker.state['running_avg'] = 5\n",
        "print(attacker.predict())"
      ],
      "metadata": {
        "colab": {
          "base_uri": "https://localhost:8080/"
        },
        "id": "buRgiUMo2lXH",
        "outputId": "2e30137c-67da-4cd1-eca1-64f67292b36f"
      },
      "execution_count": 103,
      "outputs": [
        {
          "output_type": "stream",
          "name": "stdout",
          "text": [
            "-1\n"
          ]
        }
      ]
    },
    {
      "cell_type": "markdown",
      "source": [
        "## Run the attacker on mock data\n",
        "We'll attack the prediction method to the attacker then run it"
      ],
      "metadata": {
        "id": "lh6jpef0vAjp"
      }
    },
    {
      "cell_type": "code",
      "source": [
        "k=100                           # Prediction horizon\n",
        "attacker = MyAttacker()         # Always reset an attacker\n",
        "attacker.predict = types.MethodType(predict, attacker)\n",
        "\n",
        "s = [1,3,4,2,4,5,1,5,2,5,10]*100\n",
        "for x in xs:\n",
        "   y = attacker.tick_and_predict(x=x, k=k)"
      ],
      "metadata": {
        "id": "S0yzoHAOv9W4"
      },
      "execution_count": 105,
      "outputs": []
    },
    {
      "cell_type": "markdown",
      "source": [
        "## Run the attacker on real data"
      ],
      "metadata": {
        "id": "dTsfKoLo3lIT"
      }
    },
    {
      "cell_type": "code",
      "source": [
        "k = 100       # Horizon\n",
        "x_test_stream = stream_generator(stream_id=1,category='train')\n",
        "attacker = MyAttacker()\n",
        "attacker.predict = types.MethodType(predict, attacker)     #  <-- If you get sick of doing this then put the method in the class at the outset\n",
        "for x in x_test_stream:\n",
        "    y = attacker.tick_and_predict(x=x,k=k)\n",
        "\n",
        "attacker.state"
      ],
      "metadata": {
        "colab": {
          "base_uri": "https://localhost:8080/"
        },
        "id": "fqfStlKN3m5s",
        "outputId": "cfd2336e-a8a5-4102-911b-e41282dec76a"
      },
      "execution_count": 106,
      "outputs": [
        {
          "output_type": "stream",
          "name": "stdout",
          "text": [
            "No more files found for stream_id=1 in category='train'.\n"
          ]
        },
        {
          "output_type": "execute_result",
          "data": {
            "text/plain": [
              "{'running_avg': 6415.837463556068, 'current_value': 6415.239999998541}"
            ]
          },
          "metadata": {},
          "execution_count": 106
        }
      ]
    },
    {
      "cell_type": "markdown",
      "source": [
        "## Check the attacker's profit and loss\n"
      ],
      "metadata": {
        "id": "kFnfH7VNxmpF"
      }
    },
    {
      "cell_type": "code",
      "source": [
        "pprint(attacker.get_pnl_summary())"
      ],
      "metadata": {
        "colab": {
          "base_uri": "https://localhost:8080/"
        },
        "id": "EimzKx0lxo7y",
        "outputId": "4769be89-27a4-4d88-db6e-2b518c586031"
      },
      "execution_count": 108,
      "outputs": [
        {
          "output_type": "stream",
          "name": "stdout",
          "text": [
            "{'current_ndx': 46480,\n",
            " 'losses': 96,\n",
            " 'num_resolved_decisions': 203,\n",
            " 'profit_per_decision': 0.012241379310219474,\n",
            " 'standardized_profit_per_decision': 0.0098951723910636,\n",
            " 'total_profit': 2.484999999974553,\n",
            " 'win_loss_ratio': 1.1145833333333333,\n",
            " 'wins': 107}\n"
          ]
        }
      ]
    }
  ]
}
