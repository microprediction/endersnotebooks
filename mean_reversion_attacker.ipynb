{
  "nbformat": 4,
  "nbformat_minor": 0,
  "metadata": {
    "colab": {
      "provenance": [],
      "authorship_tag": "ABX9TyM9GxuKCtEiVkBi4k589MNK",
      "include_colab_link": true
    },
    "kernelspec": {
      "name": "python3",
      "display_name": "Python 3"
    },
    "language_info": {
      "name": "python"
    }
  },
  "cells": [
    {
      "cell_type": "markdown",
      "metadata": {
        "id": "view-in-github",
        "colab_type": "text"
      },
      "source": [
        "<a href=\"https://colab.research.google.com/github/microprediction/endersnotebooks/blob/main/mean_reversion_attacker.ipynb\" target=\"_parent\"><img src=\"https://colab.research.google.com/assets/colab-badge.svg\" alt=\"Open In Colab\"/></a>"
      ]
    },
    {
      "cell_type": "code",
      "execution_count": 1,
      "metadata": {
        "colab": {
          "base_uri": "https://localhost:8080/"
        },
        "collapsed": true,
        "id": "ljQZy0kzn5rb",
        "outputId": "c9810deb-cdbe-4938-b12e-3832bb5e0ebd"
      },
      "outputs": [
        {
          "output_type": "stream",
          "name": "stdout",
          "text": [
            "Collecting git+https://github.com/microprediction/endersgame.git\n",
            "  Cloning https://github.com/microprediction/endersgame.git to /tmp/pip-req-build-4310jkky\n",
            "  Running command git clone --filter=blob:none --quiet https://github.com/microprediction/endersgame.git /tmp/pip-req-build-4310jkky\n",
            "  Resolved https://github.com/microprediction/endersgame.git to commit fc21440aaaa6fb2ab3282964a32bb83a2e9e2c58\n",
            "  Preparing metadata (setup.py) ... \u001b[?25l\u001b[?25hdone\n",
            "Requirement already satisfied: numpy in /usr/local/lib/python3.10/dist-packages (from endersgame==0.3.2) (1.26.4)\n",
            "Collecting river (from endersgame==0.3.2)\n",
            "  Downloading river-0.21.2-cp310-cp310-manylinux_2_17_x86_64.manylinux2014_x86_64.whl.metadata (9.0 kB)\n",
            "Requirement already satisfied: pandas<3.0,>=2.1 in /usr/local/lib/python3.10/dist-packages (from river->endersgame==0.3.2) (2.2.2)\n",
            "Requirement already satisfied: scipy<2.0.0,>=1.12.1 in /usr/local/lib/python3.10/dist-packages (from river->endersgame==0.3.2) (1.13.1)\n",
            "Requirement already satisfied: python-dateutil>=2.8.2 in /usr/local/lib/python3.10/dist-packages (from pandas<3.0,>=2.1->river->endersgame==0.3.2) (2.8.2)\n",
            "Requirement already satisfied: pytz>=2020.1 in /usr/local/lib/python3.10/dist-packages (from pandas<3.0,>=2.1->river->endersgame==0.3.2) (2024.2)\n",
            "Requirement already satisfied: tzdata>=2022.7 in /usr/local/lib/python3.10/dist-packages (from pandas<3.0,>=2.1->river->endersgame==0.3.2) (2024.2)\n",
            "Requirement already satisfied: six>=1.5 in /usr/local/lib/python3.10/dist-packages (from python-dateutil>=2.8.2->pandas<3.0,>=2.1->river->endersgame==0.3.2) (1.16.0)\n",
            "Downloading river-0.21.2-cp310-cp310-manylinux_2_17_x86_64.manylinux2014_x86_64.whl (3.1 MB)\n",
            "\u001b[2K   \u001b[90m━━━━━━━━━━━━━━━━━━━━━━━━━━━━━━━━━━━━━━━━\u001b[0m \u001b[32m3.1/3.1 MB\u001b[0m \u001b[31m16.3 MB/s\u001b[0m eta \u001b[36m0:00:00\u001b[0m\n",
            "\u001b[?25hBuilding wheels for collected packages: endersgame\n",
            "  Building wheel for endersgame (setup.py) ... \u001b[?25l\u001b[?25hdone\n",
            "  Created wheel for endersgame: filename=endersgame-0.3.2-py3-none-any.whl size=28574 sha256=cab08c6088a0ac4581982ec238e50c012415e13331f9be22539f7dada9896eb0\n",
            "  Stored in directory: /tmp/pip-ephem-wheel-cache-kmf8l90i/wheels/39/24/f0/19aeef5765f9b9f629bab092893ebd3c04bde902d978c742bb\n",
            "Successfully built endersgame\n",
            "Installing collected packages: river, endersgame\n",
            "Successfully installed endersgame-0.3.2 river-0.21.2\n"
          ]
        }
      ],
      "source": [
        "!pip install --upgrade git+https://github.com/microprediction/endersgame.git"
      ]
    },
    {
      "cell_type": "markdown",
      "source": [
        "# Mean Reversion Attacker Tutorial\n",
        "This notebook demonstrates how to create an \"attacker\" (see [README.md](https://github.com/microprediction/endersgame/tree/main/endersgame/attackers)), and test it.\n",
        "\n",
        "We use the steam generator (see this [notebook](https://github.com/microprediction/endersnotebooks/blob/main/enders_data_generator.ipynb)) to train it.  \n",
        "\n",
        "## What should an attacker do?\n",
        "\n",
        "It tries to predict `up` or `down` but not too often.\n",
        "\n",
        "Our attacker will consume a univariate sequence of numerical data points $x_1, x_2, \\dots x_t$ and try to exploit deviations from the [martingale property](https://en.wikipedia.org/wiki/Martingale_(probability_theory)), which is to say that we expect the series $x_t$ to satisfy:\n",
        "\n",
        "$$ E[x_{t+k}] \\approx x_t $$\n",
        "\n",
        "roughly. Of course, there's no such thing in this world as a perfect martingale and it is your job to indicate when\n",
        "\n",
        "$$ E[x_{t+k}] > x_t $$\n",
        "\n",
        "or conversely."
      ],
      "metadata": {
        "id": "LpCh-JZToCzK"
      }
    },
    {
      "cell_type": "markdown",
      "source": [
        "## Overview\n",
        "We will\n",
        "\n",
        "\n",
        "1.   Start with an attacker that already has some accounting logic\n",
        "2.   Modify the default `tick` and `predict` methods\n",
        "3.   Run the attacker on mock data\n",
        "4.   Run the attacker on real data\n",
        "5.   Set up an optimization to tune the attacker's parameters\n",
        "6.   See if it helps on the test set\n",
        "\n",
        "\n",
        "## Imports\n"
      ],
      "metadata": {
        "id": "8ITebDapqJod"
      }
    },
    {
      "cell_type": "code",
      "source": [
        "from endersgame.attackers.attackerwithsimplepnl import AttackerWithSimplePnL\n",
        "from endersgame.rivertransformers.macd import MACD\n",
        "from endersgame.datasources.streamgenerator import stream_generator\n",
        "from river import stats\n",
        "import numpy as np\n",
        "import math\n",
        "import types\n",
        "from pprint import pprint\n",
        "import json\n",
        "import scipy.optimize as opt\n",
        "from endersgame.datasources.streamgeneratorgenerator import stream_generator_generator\n",
        "from endersgame.gameconfig import HORIZON\n",
        "from typing import Iterable, Iterator\n",
        "\n",
        ""
      ],
      "metadata": {
        "id": "7qxqYHfMqvQ4"
      },
      "execution_count": 38,
      "outputs": []
    },
    {
      "cell_type": "markdown",
      "source": [
        "## Step 1: Decide what state to maintain\n",
        "Let's first implement the `tick` method. This should quickly respond to an incoming data point by modifying a rapidly changing `state`. Here we choose to maintain the current value and also an exponentially weighted moving average of historical values. We use a simple dictionary, but other styles are presented [here](https://github.com/microprediction/endersgame/blob/main/tests/colabexamples/README.md) that you might prefer."
      ],
      "metadata": {
        "id": "F7zKoqUAqx7X"
      }
    },
    {
      "cell_type": "code",
      "source": [
        "from endersgame.attackers.attackerwithsimplepnl import AttackerWithSimplePnL\n",
        "\n",
        "class MyAttacker(AttackerWithSimplePnL):\n",
        "\n",
        "     def __init__(self, a=0.01):\n",
        "        super().__init__()\n",
        "        self.state = {'running_avg':None,\n",
        "                      'current_value':None}\n",
        "        self.params = {'a':a}\n",
        "\n",
        "     def tick(self, x:float):\n",
        "         # Maintains an expon moving average of the data\n",
        "         self.state['current_value'] = x\n",
        "         if not np.isnan(x):\n",
        "            if self.state['running_avg'] is None:\n",
        "                self.state['running_avg'] = x\n",
        "            else:\n",
        "                self.state['running_avg'] = (1-self.params['a'])*self.state['running_avg'] + self.params['a']*x\n"
      ],
      "metadata": {
        "id": "QpvP8BbRpixH"
      },
      "execution_count": 18,
      "outputs": []
    },
    {
      "cell_type": "markdown",
      "source": [
        "### Testing tick\n",
        "We are half way there. Let's check the state maintenance:"
      ],
      "metadata": {
        "id": "4INVybLMsraQ"
      }
    },
    {
      "cell_type": "code",
      "source": [
        "x_train_stream = stream_generator(stream_id=0,category='train')\n",
        "attacker = MyAttacker()\n",
        "for x in x_train_stream:\n",
        "    attacker.tick(x)\n",
        "\n",
        "print(f\"After processing the entire stream, the current value is  {attacker.state['current_value']} and the moving average is {attacker.state['running_avg']}\")\n",
        "attacker.state"
      ],
      "metadata": {
        "colab": {
          "base_uri": "https://localhost:8080/"
        },
        "id": "GWZ-Z_jsstdw",
        "outputId": "1fa7691a-c3ae-46b6-f89f-7fae8bb47b84"
      },
      "execution_count": 19,
      "outputs": [
        {
          "output_type": "stream",
          "name": "stdout",
          "text": [
            "After processing the entire stream, the current value is  10319.115384618284 and the moving average is 10317.31274292457\n"
          ]
        },
        {
          "output_type": "execute_result",
          "data": {
            "text/plain": [
              "{'running_avg': 10317.31274292457, 'current_value': 10319.115384618284}"
            ]
          },
          "metadata": {},
          "execution_count": 19
        }
      ]
    },
    {
      "cell_type": "markdown",
      "source": [
        "## Making an `up` or `down` decision\n",
        "Next we implement `predict` using a mean reversion strategy."
      ],
      "metadata": {
        "id": "Q0Bjtgbet2Hn"
      }
    },
    {
      "cell_type": "code",
      "source": [
        "def predict(self, horizon:int=None)->float:\n",
        "    if self.state['current_value'] > self.state['running_avg'] + 2:\n",
        "        return -1\n",
        "    if self.state['current_value'] < self.state['running_avg'] - 2:\n",
        "        return 1\n",
        "    return 0\n",
        "\n",
        "attacker = MyAttacker()\n",
        "attacker.predict = types.MethodType(predict, attacker) # <-- Attach the predict method to our existing instance of attacker\n"
      ],
      "metadata": {
        "id": "_Xaf1t-6uBL8"
      },
      "execution_count": 20,
      "outputs": []
    },
    {
      "cell_type": "markdown",
      "source": [
        "(By the way you'll notice that we're constructing the class incrementally by assigning the method manually, just to allow this notebook to flow. This will look unnatural to many of you. By all means just move the predict definition back into the actual class.)\n",
        "\n",
        "Anyway, let's check that if the current value is very high we should predict it will fall:"
      ],
      "metadata": {
        "id": "hGyCR4yexY5O"
      }
    },
    {
      "cell_type": "code",
      "source": [
        "attacker.state['current_value'] = 10\n",
        "attacker.state['running_avg'] = 5\n",
        "print(attacker.predict())"
      ],
      "metadata": {
        "colab": {
          "base_uri": "https://localhost:8080/"
        },
        "id": "buRgiUMo2lXH",
        "outputId": "45bbce1f-5519-4b47-f2a2-40ea1e72aced"
      },
      "execution_count": 21,
      "outputs": [
        {
          "output_type": "stream",
          "name": "stdout",
          "text": [
            "-1\n"
          ]
        }
      ]
    },
    {
      "cell_type": "markdown",
      "source": [
        "## Run the attacker on mock data\n",
        "Let's put these together to creat an attacker with both `tick` and `predict`"
      ],
      "metadata": {
        "id": "lh6jpef0vAjp"
      }
    },
    {
      "cell_type": "code",
      "source": [
        "attacker = MyAttacker()               # Always reset an attacker\n",
        "attacker.predict = types.MethodType(predict, attacker)  # <-- Again, if you find this awkward, you can always just put predict() in the class itself.\n",
        "\n",
        "xs = [1,3,4,2,4,5,1,5,2,5,10]*100\n",
        "for x in xs:\n",
        "   y = attacker.tick_and_predict(x=x, horizon=HORIZON)"
      ],
      "metadata": {
        "id": "S0yzoHAOv9W4"
      },
      "execution_count": 22,
      "outputs": []
    },
    {
      "cell_type": "markdown",
      "source": [
        "## Run the attacker on real data"
      ],
      "metadata": {
        "id": "dTsfKoLo3lIT"
      }
    },
    {
      "cell_type": "code",
      "source": [
        "x_test_stream = stream_generator(stream_id=1,category='train')\n",
        "attacker = MyAttacker()\n",
        "attacker.predict = types.MethodType(predict, attacker)     #  <-- If you get sick of doing this then put the method in the class at the outset\n",
        "for x in x_test_stream:\n",
        "    y = attacker.tick_and_predict(x=x,horizon=HORIZON)\n",
        "\n",
        "attacker.state"
      ],
      "metadata": {
        "colab": {
          "base_uri": "https://localhost:8080/"
        },
        "id": "fqfStlKN3m5s",
        "outputId": "1caf3a5e-92df-4be1-de7e-c5408944a1be"
      },
      "execution_count": 23,
      "outputs": [
        {
          "output_type": "execute_result",
          "data": {
            "text/plain": [
              "{'running_avg': 10242.47896425911, 'current_value': 10242.923076925954}"
            ]
          },
          "metadata": {},
          "execution_count": 23
        }
      ]
    },
    {
      "cell_type": "markdown",
      "source": [
        "## Check the attacker's profit and loss\n"
      ],
      "metadata": {
        "id": "kFnfH7VNxmpF"
      }
    },
    {
      "cell_type": "code",
      "source": [
        "pprint(attacker.pnl.summary())"
      ],
      "metadata": {
        "colab": {
          "base_uri": "https://localhost:8080/"
        },
        "id": "EimzKx0lxo7y",
        "outputId": "faf94dcb-8fdc-498a-83b9-f22d21e11ffe"
      },
      "execution_count": 24,
      "outputs": [
        {
          "output_type": "stream",
          "name": "stdout",
          "text": [
            "{'current_ndx': 10232,\n",
            " 'losses': 36,\n",
            " 'num_resolved_decisions': 62,\n",
            " 'profit_per_decision': -0.19052109181169186,\n",
            " 'standardized_profit_per_decision': -0.10475745311387367,\n",
            " 'total_profit': -11.812307692324895,\n",
            " 'win_loss_ratio': 0.7222222222222222,\n",
            " 'wins': 26}\n"
          ]
        }
      ]
    },
    {
      "cell_type": "markdown",
      "source": [
        "## Train (globally) the using many streams\n",
        "Let's create a function that evaluates the attacker for a choice of parameter `a` when it is run over the entire training set. For this you can use the stream generator generator.\n",
        "\n"
      ],
      "metadata": {
        "id": "MKagUGkW6vbv"
      }
    },
    {
      "cell_type": "code",
      "source": [
        "# First define the objective as negative total profit and test it\n",
        "\n",
        "\n",
        "def negative_attacker_profit(a, streams: Iterable[Iterable[float]], verbose=True):\n",
        "    \"\"\"\n",
        "\n",
        "         a:          Parameter\n",
        "         streams:    Supplies a collection of individual streams\n",
        "\n",
        "    \"\"\"\n",
        "    total_profit = 0\n",
        "\n",
        "    for stream_gen in streams:\n",
        "\n",
        "        # Reset the attacker each stream\n",
        "        attacker = MyAttacker(a=a)\n",
        "        attacker.predict = types.MethodType(predict, attacker)\n",
        "\n",
        "        # Run it over the stream\n",
        "        for x in stream_gen:\n",
        "            y = attacker.tick_and_predict(x=x,horizon=HORIZON)\n",
        "\n",
        "        # Accumulate the profit or loss\n",
        "        pnl = attacker.pnl.summary()\n",
        "        total_profit += pnl['total_profit']\n",
        "\n",
        "    if verbose:\n",
        "        print(f'Using a={a} the total profit is {total_profit}')\n",
        "    return -total_profit         # So smaller is better for the optimizer\n",
        "\n",
        "\n",
        "negative_attacker_profit(a=0.1,streams=stream_generator_generator(category='train'))"
      ],
      "metadata": {
        "colab": {
          "base_uri": "https://localhost:8080/"
        },
        "id": "UnVLstwy65L4",
        "outputId": "ed9717ef-9b14-4c34-b0e1-dea8ed992db1"
      },
      "execution_count": 35,
      "outputs": [
        {
          "output_type": "stream",
          "name": "stdout",
          "text": [
            "Using a=0.1 the total profit is -69.96167552893994\n"
          ]
        },
        {
          "output_type": "execute_result",
          "data": {
            "text/plain": [
              "69.96167552893994"
            ]
          },
          "metadata": {},
          "execution_count": 35
        }
      ]
    },
    {
      "cell_type": "markdown",
      "source": [
        "### The `train` function\n",
        "The canonical way to write a training procedure uses `streams` argument and iterates over all data points in all training streams."
      ],
      "metadata": {
        "id": "5gu4daet75Fg"
      }
    },
    {
      "cell_type": "code",
      "source": [
        "from typing import Iterable\n",
        "import json\n",
        "import os\n",
        "\n",
        "def local_model_directory_path():\n",
        "     dr = os.path.join('local_model_path')\n",
        "     os.makedirs(dr, exist_ok=True)\n",
        "     return dr\n",
        "\n",
        "\n",
        "def train(\n",
        "             streams: Iterable[Iterable[float]],\n",
        "             model_directory_path: str\n",
        "          ):\n",
        "\n",
        "    def training_optimization_objective(a):\n",
        "        return negative_attacker_profit(a=0.06, streams=streams)\n",
        "\n",
        "    result = opt.minimize_scalar(training_optimization_objective, bounds=(0.001, 0.2), method='bounded',options={'maxiter': 5})\n",
        "\n",
        "    print(f\"Optimal value of a: {result.x}\")\n",
        "    print(f\"Minimum total profit: {-result.fun}\")  # Re-negate to get the actual profit\n",
        "\n",
        "    # Let's save the best parameter\n",
        "    best_a = result.x\n",
        "    parameter_file = os.path.join(model_directory_path,'params.json')\n",
        "    with open(parameter_file,'w') as fp:\n",
        "        json.dump({'a':best_a}, fp)\n",
        "        print(f'Saved {parameter_file}')\n",
        "\n",
        "    # Check we can load it again!\n",
        "    with open(parameter_file,'r') as fp:\n",
        "        params = json.load(fp)\n",
        "        print(params)\n",
        "\n",
        "\n",
        "# Here is how you would use it on the training data\n",
        "best_a = train(streams=stream_generator_generator(category='train'), model_directory_path=local_model_directory_path())"
      ],
      "metadata": {
        "colab": {
          "base_uri": "https://localhost:8080/"
        },
        "id": "cPMdvBBD76xG",
        "outputId": "7f6df332-b045-42af-862e-ea9e1542ddab"
      },
      "execution_count": 69,
      "outputs": [
        {
          "output_type": "stream",
          "name": "stdout",
          "text": [
            "Using a=0.06 the total profit is -100.81465566355791\n",
            "Using a=0.06 the total profit is 0\n",
            "Using a=0.06 the total profit is 0\n",
            "Using a=0.06 the total profit is 0\n",
            "Using a=0.06 the total profit is 0\n",
            "Optimal value of a: 0.13296067316430177\n",
            "Minimum total profit: 0\n",
            "Saved local_model_path/params.json\n",
            "{'a': 0.13296067316430177}\n"
          ]
        }
      ]
    },
    {
      "cell_type": "code",
      "source": [
        "#def train(\n",
        "#             streams: Iterable[Iterable[float]]\n",
        "#          ):\n",
        "#    pass"
      ],
      "metadata": {
        "id": "cAZfv6vxjU-E"
      },
      "execution_count": null,
      "outputs": []
    },
    {
      "cell_type": "markdown",
      "source": [
        "## The `infer` function\n",
        "Your notebook should have an infer function that can yield one prediction at a time\n",
        "\n"
      ],
      "metadata": {
        "id": "OCwBbf2XANK9"
      }
    },
    {
      "cell_type": "code",
      "source": [
        "def infer(\n",
        "    stream: Iterator[float],\n",
        "    model_directory_path: str\n",
        "):\n",
        "\n",
        "    # Load the best parameters\n",
        "    parameter_file = os.path.join(model_directory_path,'params.json')\n",
        "    with open(parameter_file,'r') as fp:\n",
        "        params = json.load(fp)\n",
        "    a = params['a']\n",
        "\n",
        "    # Instantiate your attacker\n",
        "    attacker = MyAttacker(a=a)\n",
        "    yield  # <---  Leave this here. This signals to the system that your attacker is initialized and ready.\n",
        "\n",
        "    for x in stream:\n",
        "       decision = attacker.tick_and_predict(x)\n",
        "       yield decision          # <---- Be sure to yield, even if the decision is zero.\n",
        "\n",
        "\n",
        "\n",
        "# A quick test that indicates how your infer function will be used when you upload this notebook:\n",
        "xs = np.random.randn(5)\n",
        "for y in infer(xs, model_directory_path=local_model_directory_path()):\n",
        "    print(y)"
      ],
      "metadata": {
        "colab": {
          "base_uri": "https://localhost:8080/"
        },
        "id": "WmdS8fkZfqnE",
        "outputId": "a9a6e49e-a18f-401b-fb14-cde2a4e6a77a"
      },
      "execution_count": 72,
      "outputs": [
        {
          "output_type": "stream",
          "name": "stdout",
          "text": [
            "None\n",
            "0\n",
            "0\n",
            "0\n",
            "0\n",
            "0\n"
          ]
        }
      ]
    },
    {
      "cell_type": "markdown",
      "source": [
        "Not that as far as the API for the contest is concerned, your `infer` could also be much simpler if you wish. It doesn't need to use an attacker at all. For example...  "
      ],
      "metadata": {
        "id": "65dKF0ZkxOST"
      }
    },
    {
      "cell_type": "code",
      "source": [
        "def infer(\n",
        "    stream: Iterator[float]\n",
        "):\n",
        "    yield     # <-- I'm ready!\n",
        "    for x in stream:\n",
        "        if x>3:\n",
        "            yield 1\n",
        "        yield 0\n",
        "\n",
        "\n"
      ],
      "metadata": {
        "id": "AplBl47IxeOG"
      },
      "execution_count": null,
      "outputs": []
    }
  ]
}