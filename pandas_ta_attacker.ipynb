{
  "nbformat": 4,
  "nbformat_minor": 0,
  "metadata": {
    "colab": {
      "provenance": [],
      "authorship_tag": "ABX9TyPNO82tpMl1MJL2JkKmH4mP",
      "include_colab_link": true
    },
    "kernelspec": {
      "name": "python3",
      "display_name": "Python 3"
    },
    "language_info": {
      "name": "python"
    }
  },
  "cells": [
    {
      "cell_type": "markdown",
      "metadata": {
        "id": "view-in-github",
        "colab_type": "text"
      },
      "source": [
        "<a href=\"https://colab.research.google.com/github/microprediction/endersnotebooks/blob/main/pandas_ta_attacker.ipynb\" target=\"_parent\"><img src=\"https://colab.research.google.com/assets/colab-badge.svg\" alt=\"Open In Colab\"/></a>"
      ]
    },
    {
      "cell_type": "code",
      "execution_count": 2,
      "metadata": {
        "collapsed": true,
        "id": "ljQZy0kzn5rb",
        "outputId": "f75724ae-4999-4cdc-cd6b-a46346bc025e",
        "colab": {
          "base_uri": "https://localhost:8080/"
        }
      },
      "outputs": [
        {
          "output_type": "stream",
          "name": "stdout",
          "text": [
            "Collecting git+https://github.com/microprediction/endersgame.git\n",
            "  Cloning https://github.com/microprediction/endersgame.git to /tmp/pip-req-build-1met_r19\n",
            "  Running command git clone --filter=blob:none --quiet https://github.com/microprediction/endersgame.git /tmp/pip-req-build-1met_r19\n",
            "  Resolved https://github.com/microprediction/endersgame.git to commit 0ccd0e66c6171baa04bafc36886e836b5e4aceb5\n",
            "  Preparing metadata (setup.py) ... \u001b[?25l\u001b[?25hdone\n",
            "Requirement already satisfied: numpy in /usr/local/lib/python3.10/dist-packages (from endersgame==0.4.3) (1.26.4)\n",
            "Collecting river (from endersgame==0.4.3)\n",
            "  Downloading river-0.21.2-cp310-cp310-manylinux_2_17_x86_64.manylinux2014_x86_64.whl.metadata (9.0 kB)\n",
            "Requirement already satisfied: requests in /usr/local/lib/python3.10/dist-packages (from endersgame==0.4.3) (2.32.3)\n",
            "Requirement already satisfied: statsmodels in /usr/local/lib/python3.10/dist-packages (from endersgame==0.4.3) (0.14.4)\n",
            "Requirement already satisfied: charset-normalizer<4,>=2 in /usr/local/lib/python3.10/dist-packages (from requests->endersgame==0.4.3) (3.3.2)\n",
            "Requirement already satisfied: idna<4,>=2.5 in /usr/local/lib/python3.10/dist-packages (from requests->endersgame==0.4.3) (3.10)\n",
            "Requirement already satisfied: urllib3<3,>=1.21.1 in /usr/local/lib/python3.10/dist-packages (from requests->endersgame==0.4.3) (2.2.3)\n",
            "Requirement already satisfied: certifi>=2017.4.17 in /usr/local/lib/python3.10/dist-packages (from requests->endersgame==0.4.3) (2024.8.30)\n",
            "Requirement already satisfied: pandas<3.0,>=2.1 in /usr/local/lib/python3.10/dist-packages (from river->endersgame==0.4.3) (2.2.2)\n",
            "Requirement already satisfied: scipy<2.0.0,>=1.12.1 in /usr/local/lib/python3.10/dist-packages (from river->endersgame==0.4.3) (1.13.1)\n",
            "Requirement already satisfied: patsy>=0.5.6 in /usr/local/lib/python3.10/dist-packages (from statsmodels->endersgame==0.4.3) (0.5.6)\n",
            "Requirement already satisfied: packaging>=21.3 in /usr/local/lib/python3.10/dist-packages (from statsmodels->endersgame==0.4.3) (24.1)\n",
            "Requirement already satisfied: python-dateutil>=2.8.2 in /usr/local/lib/python3.10/dist-packages (from pandas<3.0,>=2.1->river->endersgame==0.4.3) (2.8.2)\n",
            "Requirement already satisfied: pytz>=2020.1 in /usr/local/lib/python3.10/dist-packages (from pandas<3.0,>=2.1->river->endersgame==0.4.3) (2024.2)\n",
            "Requirement already satisfied: tzdata>=2022.7 in /usr/local/lib/python3.10/dist-packages (from pandas<3.0,>=2.1->river->endersgame==0.4.3) (2024.2)\n",
            "Requirement already satisfied: six in /usr/local/lib/python3.10/dist-packages (from patsy>=0.5.6->statsmodels->endersgame==0.4.3) (1.16.0)\n",
            "Downloading river-0.21.2-cp310-cp310-manylinux_2_17_x86_64.manylinux2014_x86_64.whl (3.1 MB)\n",
            "\u001b[2K   \u001b[90m━━━━━━━━━━━━━━━━━━━━━━━━━━━━━━━━━━━━━━━━\u001b[0m \u001b[32m3.1/3.1 MB\u001b[0m \u001b[31m22.7 MB/s\u001b[0m eta \u001b[36m0:00:00\u001b[0m\n",
            "\u001b[?25hBuilding wheels for collected packages: endersgame\n",
            "  Building wheel for endersgame (setup.py) ... \u001b[?25l\u001b[?25hdone\n",
            "  Created wheel for endersgame: filename=endersgame-0.4.3-py3-none-any.whl size=33269 sha256=9ead29c2e2b5e9c96bc585f9edb733b6520e9c95de1998a78b94f4f612d66304\n",
            "  Stored in directory: /tmp/pip-ephem-wheel-cache-is6yevhw/wheels/39/24/f0/19aeef5765f9b9f629bab092893ebd3c04bde902d978c742bb\n",
            "Successfully built endersgame\n",
            "Installing collected packages: river, endersgame\n",
            "Successfully installed endersgame-0.4.3 river-0.21.2\n",
            "Collecting pandas_ta\n",
            "  Downloading pandas_ta-0.3.14b.tar.gz (115 kB)\n",
            "\u001b[2K     \u001b[90m━━━━━━━━━━━━━━━━━━━━━━━━━━━━━━━━━━━━━━━━\u001b[0m \u001b[32m115.1/115.1 kB\u001b[0m \u001b[31m2.5 MB/s\u001b[0m eta \u001b[36m0:00:00\u001b[0m\n",
            "\u001b[?25h  Preparing metadata (setup.py) ... \u001b[?25l\u001b[?25hdone\n",
            "Requirement already satisfied: pandas in /usr/local/lib/python3.10/dist-packages (from pandas_ta) (2.2.2)\n",
            "Requirement already satisfied: numpy>=1.22.4 in /usr/local/lib/python3.10/dist-packages (from pandas->pandas_ta) (1.26.4)\n",
            "Requirement already satisfied: python-dateutil>=2.8.2 in /usr/local/lib/python3.10/dist-packages (from pandas->pandas_ta) (2.8.2)\n",
            "Requirement already satisfied: pytz>=2020.1 in /usr/local/lib/python3.10/dist-packages (from pandas->pandas_ta) (2024.2)\n",
            "Requirement already satisfied: tzdata>=2022.7 in /usr/local/lib/python3.10/dist-packages (from pandas->pandas_ta) (2024.2)\n",
            "Requirement already satisfied: six>=1.5 in /usr/local/lib/python3.10/dist-packages (from python-dateutil>=2.8.2->pandas->pandas_ta) (1.16.0)\n",
            "Building wheels for collected packages: pandas_ta\n",
            "  Building wheel for pandas_ta (setup.py) ... \u001b[?25l\u001b[?25hdone\n",
            "  Created wheel for pandas_ta: filename=pandas_ta-0.3.14b0-py3-none-any.whl size=218909 sha256=9777e5e98799acf688a0bb2379f9151004f2c1dde0e1f0be89590dcb1c2c3159\n",
            "  Stored in directory: /root/.cache/pip/wheels/69/00/ac/f7fa862c34b0e2ef320175100c233377b4c558944f12474cf0\n",
            "Successfully built pandas_ta\n",
            "Installing collected packages: pandas_ta\n",
            "Successfully installed pandas_ta-0.3.14b0\n"
          ]
        }
      ],
      "source": [
        "!pip install --upgrade git+https://github.com/microprediction/endersgame.git\n",
        "!pip install pandas_ta\n",
        "# It's probably fine to use the simpler import by the time your read this :)\n",
        "#!pip install --upgrade endersgame"
      ]
    },
    {
      "cell_type": "markdown",
      "source": [
        "# Pandas Technical Analysis Attacker\n",
        "This notebook demonstrates how to create an `Attacker` described in [attacker.md](https://github.com/microprediction/endersgame/blob/main/endersgame/attackers/attacker.md). You may want to glance at this [notebook](https://github.com/microprediction/endersnotebooks/blob/main/mean_reversion_attacker.ipynb) also, if you seek more context or wish to know how these attackers can be used in a new tournament.\n",
        "\n",
        "Here we'll use:\n",
        "\n",
        "*   The `pandas_ta` package to generate features from lags.\n",
        "*   The `river` package to update a running regression.\n",
        "\n",
        "\n"
      ],
      "metadata": {
        "id": "LpCh-JZToCzK"
      }
    },
    {
      "cell_type": "code",
      "source": [
        "from endersgame import Attacker, HORIZON, EPSILON\n",
        "from river import linear_model\n",
        "from collections import deque\n",
        "from endersgame import stream_generator_generator\n",
        "from pprint import pprint\n",
        "import pandas as pd\n",
        "import pandas_ta as ta\n",
        "from endersgame.accounting.pnlutil import zero_pnl_summary, add_pnl_summaries"
      ],
      "metadata": {
        "id": "7qxqYHfMqvQ4"
      },
      "execution_count": 3,
      "outputs": []
    },
    {
      "cell_type": "markdown",
      "source": [
        "### Creating an Attacker driven by technical analysis signals\n",
        "We derive from `Attacker` and use `linear_model.LinearRegression` from the river package to maintain a regression estimate of the value `HORIZON` steps ahead. Then, we `buy` if the prediction is considerably higher than `EPSILON` above the current value, and conversely.\n",
        "\n"
      ],
      "metadata": {
        "id": "4INVybLMsraQ"
      }
    },
    {
      "cell_type": "code",
      "source": [
        "class MyAttacker(Attacker):\n",
        "    \"\"\"\n",
        "    An attacker that computes technical indicators based on recent history and uses\n",
        "    an online linear regression model to predict future values and make trading decisions.\n",
        "\n",
        "    Remarks:\n",
        "       - pip install pandas_ta\n",
        "       - Performance is hindered because features are computed repeatedly every data point\n",
        "       - But it supports many features https://github.com/twopirllc/pandas-ta?tab=readme-ov-file#indicators-by-category\n",
        "\n",
        "    \"\"\"\n",
        "\n",
        "    def __init__(self, max_history_len=500, threshold: float = 1.0, burn_in=1000, **kwargs):\n",
        "        \"\"\"\n",
        "        Initializes the attacker.\n",
        "\n",
        "        Parameters:\n",
        "        - max_history_len (int): Number of recent data points to use for computing technical indicators.\n",
        "        - threshold (float): Multiplier for EPSILON to decide when to act.\n",
        "        - burn_in (int): Number of initial observations to skip before making predictions.\n",
        "        \"\"\"\n",
        "        super().__init__(max_history_len=max_history_len, **kwargs)\n",
        "        self.num_lags = max_history_len                # Number of recent values to use for technical indicators\n",
        "        self.model = linear_model.LinearRegression(    # Online linear regression model\n",
        "            intercept_init=0.0,                        # Initialize intercept to 0\n",
        "            intercept_lr=0.0                            # Freeze the intercept (no learning)\n",
        "        )\n",
        "        self.input_queue = deque()                     # Queue to store input vectors and time indices\n",
        "        self.current_ndx = 0                           # Observation index\n",
        "        self.threshold = threshold\n",
        "        self.burn_in = burn_in\n",
        "\n",
        "    def compute_indicators(self, data: pd.Series):\n",
        "        \"\"\"\n",
        "        Computes several technical indicators based on the recent history.\n",
        "\n",
        "        Parameters:\n",
        "        - data (pd.Series): The recent historical data as a pandas Series.\n",
        "\n",
        "        Returns:\n",
        "        - indicators (dict): A dictionary of computed technical indicators.\n",
        "        \"\"\"\n",
        "        indicators = {}\n",
        "\n",
        "        # Compute Relative Strength Index (RSI)\n",
        "        rsi = ta.rsi(data, length=14)\n",
        "        if rsi is not None and not rsi.empty:\n",
        "            indicators['rsi'] = rsi.iloc[-1]\n",
        "        else:\n",
        "            indicators['rsi'] = 0  # Default value if not enough data\n",
        "\n",
        "        # Compute Simple Moving Average (SMA)\n",
        "        sma_50 = ta.sma(data, length=50)\n",
        "        if sma_50 is not None and not sma_50.empty:\n",
        "            indicators['sma_50'] = sma_50.iloc[-1]\n",
        "        else:\n",
        "            indicators['sma_50'] = 0  # Default value if not enough data\n",
        "\n",
        "        # Compute Exponential Moving Average (EMA)\n",
        "        ema_20 = ta.ema(data, length=20)\n",
        "        if ema_20 is not None and not ema_20.empty:\n",
        "            indicators['ema_20'] = ema_20.iloc[-1]\n",
        "        else:\n",
        "            indicators['ema_20'] = 0  # Default value if not enough data\n",
        "\n",
        "        return indicators\n",
        "\n",
        "    def tick(self, x):\n",
        "        \"\"\"\n",
        "        Processes the new data point.\n",
        "\n",
        "        - Maintains a queue of input vectors.\n",
        "        - When the future value arrives after HORIZON steps, updates the model.\n",
        "\n",
        "        Parameters:\n",
        "        - x (float): The new data point.\n",
        "        \"\"\"\n",
        "        self.current_ndx += 1  # Increment the observation index\n",
        "\n",
        "        # Get recent history and convert to pandas Series\n",
        "        history = self.get_recent_history(n=self.num_lags)\n",
        "        if len(history) >= self.num_lags:\n",
        "            history_series = pd.Series(history)\n",
        "\n",
        "            # Compute technical indicators from the history\n",
        "            indicators = self.compute_indicators(history_series)\n",
        "\n",
        "            # Store the indicators and current index in the input queue\n",
        "            self.input_queue.append({'ndx': self.current_ndx, 'indicators': indicators})\n",
        "\n",
        "        # Check if we can update the model with data from HORIZON steps ago\n",
        "        while self.input_queue and self.input_queue[0]['ndx'] <= self.current_ndx - HORIZON:\n",
        "            # Retrieve the indicator vector and its time index\n",
        "            past_data = self.input_queue.popleft()\n",
        "            X_past = past_data['indicators']\n",
        "\n",
        "            # The target value y is the data point at 'time_past + HORIZON'\n",
        "            y = x  # Current data point is the target for the input from HORIZON steps ago\n",
        "\n",
        "            # Update the model incrementally\n",
        "            self.model.learn_one(X_past, y)\n",
        "\n",
        "    def predict(self, horizon=HORIZON):\n",
        "        \"\"\"\n",
        "        Makes a prediction for HORIZON steps ahead and decides whether to buy, sell, or hold.\n",
        "\n",
        "        Parameters:\n",
        "        - horizon (int): The prediction horizon (should be HORIZON).\n",
        "\n",
        "        Returns:\n",
        "        - int: 1 for buy, -1 for sell, 0 for hold.\n",
        "        \"\"\"\n",
        "        if self.current_ndx < self.burn_in:\n",
        "            return 0  # Not enough data for model to be reliable\n",
        "\n",
        "        # Get recent history and convert to pandas Series\n",
        "        history = self.get_recent_history(n=self.num_lags)\n",
        "        if len(history) >= self.num_lags:\n",
        "            history_series = pd.Series(history)\n",
        "\n",
        "            # Compute technical indicators for the prediction\n",
        "            indicators = self.compute_indicators(history_series)\n",
        "\n",
        "            # Predict the future value HORIZON steps ahead\n",
        "            y_pred = self.model.predict_one(indicators)\n",
        "\n",
        "            # Get the last known value\n",
        "            last_value = history_series.iloc[-1]\n",
        "\n",
        "            # Calculate the expected profit\n",
        "            expected_profit = y_pred - last_value\n",
        "\n",
        "            # Decide based on whether expected profit exceeds threshold * EPSILON\n",
        "            if expected_profit > self.threshold * EPSILON:\n",
        "                return 1  # Buy\n",
        "            elif expected_profit < -self.threshold * EPSILON:\n",
        "                return -1  # Sell\n",
        "            else:\n",
        "                return 0  # Hold\n",
        "        else:\n",
        "            return 0  # Not enough history to make a prediction\n"
      ],
      "metadata": {
        "id": "Cn_fMDz0ukgK"
      },
      "execution_count": 4,
      "outputs": []
    },
    {
      "cell_type": "markdown",
      "source": [
        "### Explanation\n",
        "\n",
        "### `tick` Method\n",
        "\n",
        "The `tick` method processes each new incoming data point and updates the attacker's state accordingly:\n",
        "\n",
        "- **Retrieve Recent History**:\n",
        "  - Uses `get_recent_history(n=self.num_lags)` to fetch the most recent `num_lags` data points from the history maintained by the parent `Attacker` class.\n",
        "\n",
        "- **Compute Technical Indicators**:\n",
        "  - Converts the recent history into a pandas Series.\n",
        "  - Calls `compute_indicators(history_series)` to calculate technical indicators such as RSI, SMA, and EMA based on the recent data.\n",
        "\n",
        "- **Queue Indicators for Future Training**:\n",
        "  - Appends a dictionary containing the current index (`'ndx'`) and the computed indicators (`'indicators'`) to `self.input_queue`.\n",
        "  - This queue ensures that each set of indicators is paired with the correct future data point after `HORIZON` steps.\n",
        "\n",
        "- **Update the Model with Historical Data**:\n",
        "  - Checks if there are any indicator sets in `self.input_queue` that are now `HORIZON` steps old.\n",
        "  - If such data exists, it:\n",
        "    - Removes the oldest indicator set from the queue.\n",
        "    - Uses the current data point `x` as the target value `y` corresponding to the past indicators.\n",
        "    - Updates the online linear regression model incrementally with the feature-target pair using `self.model.learn_one(X_past, y)`.\n",
        "\n",
        "### `predict` Method\n",
        "\n",
        "The `predict` method uses the current state of the model to make trading decisions based on predicted future values:\n",
        "\n",
        "- **Burn-in Period Check**:\n",
        "  - If the number of processed data points (`self.current_ndx`) is less than `burn_in`, the method returns `0` (hold) to allow the model to stabilize and gather sufficient training data.\n",
        "\n",
        "- **Ensure Sufficient History**:\n",
        "  - Checks if there are enough data points (`num_lags`) to compute the required technical indicators.\n",
        "  - If not, it returns `0` (hold) as there isn't enough information to make a reliable prediction.\n",
        "\n",
        "- **Compute Indicators for Prediction**:\n",
        "  - Retrieves the most recent `num_lags` data points using `get_recent_history(n=self.num_lags)` and converts them into a pandas Series.\n",
        "  - Calls `compute_indicators(history_series)` to calculate the necessary technical indicators based on the latest data.\n",
        "\n",
        "- **Make a Prediction**:\n",
        "  - Uses the online linear regression model to predict the future value `HORIZON` steps ahead based on the computed indicators: `y_pred = self.model.predict_one(indicators)`.\n",
        "\n",
        "- **Calculate Expected Profit**:\n",
        "  - Determines the expected profit by subtracting the last known value from the predicted value: `expected_profit = y_pred - last_value`.\n",
        "\n",
        "- **Decision Logic**:\n",
        "  - **Buy (`1`)**: If the expected profit exceeds `threshold * EPSILON`, indicating a significant positive change.\n",
        "  - **Sell (`-1`)**: If the expected profit is below `-threshold * EPSILON`, indicating a significant negative change.\n",
        "  - **Hold (`0`)**: If the expected profit is within the range `[-threshold * EPSILON, threshold * EPSILON]`, indicating no substantial change.\n",
        "\n",
        "This method ensures that trading decisions are only made when the model predicts a sufficiently large movement in the target variable, thereby potentially increasing the effectiveness of the trading strategy by avoiding minor fluctuations.\n",
        "\n"
      ],
      "metadata": {
        "id": "tQ68K8PCMAlo"
      }
    },
    {
      "cell_type": "markdown",
      "source": [
        "## Run the attacker on mock data\n",
        "We use `tick_and_predict` from the parent class as this will track profit and loss for us."
      ],
      "metadata": {
        "id": "lh6jpef0vAjp"
      }
    },
    {
      "cell_type": "code",
      "source": [
        "attacker = MyAttacker()               # Always reset an attacker\n",
        "\n",
        "xs = [1,3,4,2,4,5,1,5,2,5,10]*100\n",
        "for x in xs:\n",
        "   y = attacker.tick_and_predict(x=x)"
      ],
      "metadata": {
        "id": "S0yzoHAOv9W4"
      },
      "execution_count": 5,
      "outputs": []
    },
    {
      "cell_type": "markdown",
      "source": [
        "## Run the attacker on real data\n",
        "We reset the attacker every time it encounters a new stream, but track aggregate statistics."
      ],
      "metadata": {
        "id": "dTsfKoLo3lIT"
      }
    },
    {
      "cell_type": "code",
      "source": [
        "gen_gen = stream_generator_generator(category='test')    # <-- You might want to change 'train' to 'test'\n",
        "attacker = MyAttacker(max_history_len=20, threshold=2.0, burn_in=1000)\n",
        "total_pnl = zero_pnl_summary()\n",
        "for stream in gen_gen:\n",
        "    for message in stream:\n",
        "        attacker.tick_and_predict(x=message['x'])\n",
        "    stream_pnl = attacker.pnl.summary()\n",
        "    total_pnl = add_pnl_summaries(total_pnl,stream_pnl)\n",
        "\n",
        "total_pnl.update({'profit_per_decision':total_pnl['total_profit']/total_pnl['num_resolved_decisions']})\n",
        "pprint(total_pnl)"
      ],
      "metadata": {
        "colab": {
          "base_uri": "https://localhost:8080/"
        },
        "id": "fqfStlKN3m5s",
        "outputId": "4b5663c6-47e6-4a65-9553-b527e2311173"
      },
      "execution_count": 6,
      "outputs": [
        {
          "output_type": "stream",
          "name": "stdout",
          "text": [
            "{'current_ndx': 4254823,\n",
            " 'losses': 2125005,\n",
            " 'num_resolved_decisions': 4193143,\n",
            " 'profit_per_decision': -0.14755682896724368,\n",
            " 'total_profit': -618726.884486195,\n",
            " 'wins': 2068138}\n"
          ]
        }
      ]
    },
    {
      "cell_type": "markdown",
      "source": [
        "And that's all we have. Again, you may want to refer to this [notebook](https://github.com/microprediction/endersnotebooks/blob/main/mean_reversion_attacker.ipynb) also."
      ],
      "metadata": {
        "id": "8vFZx4hCtx2X"
      }
    }
  ]
}