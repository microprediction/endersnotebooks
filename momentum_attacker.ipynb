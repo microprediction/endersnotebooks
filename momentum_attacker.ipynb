{
  "nbformat": 4,
  "nbformat_minor": 0,
  "metadata": {
    "colab": {
      "provenance": [],
      "authorship_tag": "ABX9TyNSOgj5XF6t1Cgg76Myt+p5",
      "include_colab_link": true
    },
    "kernelspec": {
      "name": "python3",
      "display_name": "Python 3"
    },
    "language_info": {
      "name": "python"
    }
  },
  "cells": [
    {
      "cell_type": "markdown",
      "metadata": {
        "id": "view-in-github",
        "colab_type": "text"
      },
      "source": [
        "<a href=\"https://colab.research.google.com/github/microprediction/endersnotebooks/blob/main/momentum_attacker.ipynb\" target=\"_parent\"><img src=\"https://colab.research.google.com/assets/colab-badge.svg\" alt=\"Open In Colab\"/></a>"
      ]
    },
    {
      "cell_type": "code",
      "execution_count": 4,
      "metadata": {
        "collapsed": true,
        "id": "ljQZy0kzn5rb",
        "outputId": "47a2d5b8-a4ac-40e2-e5b8-1da3b2a60745",
        "colab": {
          "base_uri": "https://localhost:8080/"
        }
      },
      "outputs": [
        {
          "output_type": "stream",
          "name": "stdout",
          "text": [
            "Collecting git+https://github.com/microprediction/endersgame.git\n",
            "  Cloning https://github.com/microprediction/endersgame.git to /tmp/pip-req-build-o8gyvpvs\n",
            "  Running command git clone --filter=blob:none --quiet https://github.com/microprediction/endersgame.git /tmp/pip-req-build-o8gyvpvs\n",
            "  Resolved https://github.com/microprediction/endersgame.git to commit dffb0ab414907eb2e9885a38e51384a179b2bb2c\n",
            "  Preparing metadata (setup.py) ... \u001b[?25l\u001b[?25hdone\n",
            "Requirement already satisfied: numpy in /usr/local/lib/python3.10/dist-packages (from endersgame==0.4.1) (1.26.4)\n",
            "Requirement already satisfied: river in /usr/local/lib/python3.10/dist-packages (from endersgame==0.4.1) (0.21.2)\n",
            "Requirement already satisfied: pandas<3.0,>=2.1 in /usr/local/lib/python3.10/dist-packages (from river->endersgame==0.4.1) (2.2.2)\n",
            "Requirement already satisfied: scipy<2.0.0,>=1.12.1 in /usr/local/lib/python3.10/dist-packages (from river->endersgame==0.4.1) (1.13.1)\n",
            "Requirement already satisfied: python-dateutil>=2.8.2 in /usr/local/lib/python3.10/dist-packages (from pandas<3.0,>=2.1->river->endersgame==0.4.1) (2.8.2)\n",
            "Requirement already satisfied: pytz>=2020.1 in /usr/local/lib/python3.10/dist-packages (from pandas<3.0,>=2.1->river->endersgame==0.4.1) (2024.2)\n",
            "Requirement already satisfied: tzdata>=2022.7 in /usr/local/lib/python3.10/dist-packages (from pandas<3.0,>=2.1->river->endersgame==0.4.1) (2024.2)\n",
            "Requirement already satisfied: six>=1.5 in /usr/local/lib/python3.10/dist-packages (from python-dateutil>=2.8.2->pandas<3.0,>=2.1->river->endersgame==0.4.1) (1.16.0)\n"
          ]
        }
      ],
      "source": [
        "!pip install --upgrade git+https://github.com/microprediction/endersgame.git\n",
        "# It's probably fine to use the simpler import by the time your read this :)\n",
        "#!pip install --upgrade endersgame"
      ]
    },
    {
      "cell_type": "markdown",
      "source": [
        "# Momentum Attacker\n",
        "This notebook demonstrates how to create an `Attacker` described in [attacker.md](https://github.com/microprediction/endersgame/blob/main/endersgame/attackers/attacker.md). You may want to glance at this [notebook](https://github.com/microprediction/endersnotebooks/blob/main/mean_reversion_attacker.ipynb) also, if you seek more context or wish to know how these attackers can be used in a new tournament.\n",
        "\n"
      ],
      "metadata": {
        "id": "LpCh-JZToCzK"
      }
    },
    {
      "cell_type": "code",
      "source": [
        "from endersgame import Attacker\n",
        "from endersgame import stream_generator_generator   # <--- Provides training and test data\n",
        "from endersgame.accounting.pnlutil import zero_pnl_summary, add_pnl_summaries # <-- Minor conveniences\n",
        "from pprint import pprint\n",
        "from endersgame import FEWMean, FEWVar  # <--- Utils to track running mean and var\n",
        "import math"
      ],
      "metadata": {
        "id": "7qxqYHfMqvQ4"
      },
      "execution_count": 9,
      "outputs": []
    },
    {
      "cell_type": "markdown",
      "source": [
        "### Creating a Momentum based Attacker\n",
        "We derive from `Attacker` and use the utilities `FEWMean` and `FEWVar` to track the running exponentially weighted quantities we need."
      ],
      "metadata": {
        "id": "4INVybLMsraQ"
      }
    },
    {
      "cell_type": "code",
      "source": [],
      "metadata": {
        "id": "Cn_fMDz0ukgK"
      },
      "execution_count": null,
      "outputs": []
    },
    {
      "cell_type": "code",
      "source": [
        "\n",
        "class MyAttacker(Attacker):\n",
        "\n",
        "     def __init__(self, fast_fading_factor:dict=0.1, slow_fading_factor=0.01, diff_fading_factor=0.001, threshold = 2, burn_in=100, **kwargs):\n",
        "         super().__init__(**kwargs)\n",
        "         self.threshold = threshold\n",
        "         self.fast_ewa = FEWMean(fading_factor=fast_fading_factor)   # <--- Track fast expon-weighted moving average\n",
        "         self.slow_ewa = FEWMean(fading_factor=slow_fading_factor)   # <--- Track slow expon-weighted moving average\n",
        "         self.diff_var = FEWVar(fading_factor=diff_fading_factor)    # <--- Tracks mean and var of the difference between the two\n",
        "         self.countdown = burn_in\n",
        "\n",
        "     def tick(self, x:float):\n",
        "         self.fast_ewa.tick(x=x)    # <--- Update the fast expon avg\n",
        "         self.slow_ewa.tick(x=x)    # <--- Update the slow expon avg\n",
        "         fast_minus_slow = self.fast_ewa.get() - self.slow_ewa.get()\n",
        "         self.diff_var.tick(x=fast_minus_slow)  # <--- Update var of diff\n",
        "         self.countdown -= 1        # <--- Soon we'll be warm\n",
        "\n",
        "     def predict(self, horizon: int = None) -> float:\n",
        "         \"\"\"\n",
        "               We buy if signal > threshold*(trailing std of signal)\n",
        "         \"\"\"\n",
        "         if self.countdown>0:\n",
        "             return 0    # Not warmed up\n",
        "         fast_minus_slow = self.fast_ewa.get() - self.slow_ewa.get()\n",
        "         try:\n",
        "             fast_minus_slow_std = math.sqrt( self.diff_var.get())\n",
        "             decision = int(fast_minus_slow/(self.threshold*fast_minus_slow_std))  # <--- Create a buy (>0) or sell (<0) decision\n",
        "             return decision\n",
        "         except ArithmeticError:\n",
        "             return 0"
      ],
      "metadata": {
        "id": "GWZ-Z_jsstdw"
      },
      "execution_count": 6,
      "outputs": []
    },
    {
      "cell_type": "markdown",
      "source": [
        "## Run the attacker on mock data\n",
        "We use `tick_and_predict` from the parent class as this will track profit and loss for us."
      ],
      "metadata": {
        "id": "lh6jpef0vAjp"
      }
    },
    {
      "cell_type": "code",
      "source": [
        "attacker = MyAttacker()               # Always reset an attacker\n",
        "\n",
        "xs = [1,3,4,2,4,5,1,5,2,5,10]*100\n",
        "for x in xs:\n",
        "   y = attacker.tick_and_predict(x=x)"
      ],
      "metadata": {
        "id": "S0yzoHAOv9W4"
      },
      "execution_count": 7,
      "outputs": []
    },
    {
      "cell_type": "markdown",
      "source": [
        "## Run the attacker on real data\n",
        "We reset the attacker every time it encounters a new stream, but track aggregate statistics."
      ],
      "metadata": {
        "id": "dTsfKoLo3lIT"
      }
    },
    {
      "cell_type": "code",
      "source": [
        "gen_gen = stream_generator_generator(category='train')    # <-- You might want to change 'train' to 'test'\n",
        "attacker = MyAttacker()\n",
        "total_pnl = zero_pnl_summary()\n",
        "for stream in gen_gen:\n",
        "    for message in stream:\n",
        "        attacker.tick_and_predict(x=message['x'])\n",
        "    stream_pnl = attacker.pnl.summary()\n",
        "    total_pnl = add_pnl_summaries(total_pnl,stream_pnl)\n",
        "\n",
        "total_pnl.update({'profit_per_decision':total_pnl['total_profit']/total_pnl['num_resolved_decisions']})\n",
        "pprint(total_pnl)"
      ],
      "metadata": {
        "colab": {
          "base_uri": "https://localhost:8080/"
        },
        "id": "fqfStlKN3m5s",
        "outputId": "d0f1ebcc-4763-4e99-caff-aa119cdb0769"
      },
      "execution_count": 13,
      "outputs": [
        {
          "output_type": "stream",
          "name": "stdout",
          "text": [
            "{'current_ndx': 19871117,\n",
            " 'losses': 7842,\n",
            " 'num_resolved_decisions': 14562,\n",
            " 'profit_per_decision': 0.07927460391195962,\n",
            " 'total_profit': 1154.396782165956,\n",
            " 'wins': 6720}\n"
          ]
        }
      ]
    },
    {
      "cell_type": "markdown",
      "source": [
        "And that's all we have. Again, you may want to refer to this [notebook](https://github.com/microprediction/endersnotebooks/blob/main/mean_reversion_attacker.ipynb) also."
      ],
      "metadata": {
        "id": "8vFZx4hCtx2X"
      }
    }
  ]
}